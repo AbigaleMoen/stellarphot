{
 "cells": [
  {
   "cell_type": "markdown",
   "metadata": {},
   "source": [
    "# Comparison star generator"
   ]
  },
  {
   "cell_type": "code",
   "execution_count": null,
   "metadata": {},
   "outputs": [],
   "source": [
    "import re\n",
    "import requests\n",
    "\n",
    "import astropy.units as u\n",
    "from astropy.coordinates import SkyCoord\n",
    "\n",
    "from stellarphot import SourceListData\n",
    "from stellarphot.gui_tools.comparison_functions import ComparisonViewer"
   ]
  },
  {
   "cell_type": "markdown",
   "metadata": {},
   "source": [
    "## Change the settings in this cell as needed"
   ]
  },
  {
   "cell_type": "code",
   "execution_count": null,
   "metadata": {},
   "outputs": [],
   "source": [
    "bright_mag_limit = 9\n",
    "dim_mag_limit = 16\n",
    "Cmag = 10\n",
    "\n",
    "# 👉 File to save apertures in\n",
    "aperture_output_file = 'aperture_locations.csv'\n",
    "\n",
    "# 👉 File to save SourceListData in\n",
    "source_list_file = 'source_list.ecsv'\n",
    "\n",
    "# 👉 File to exoplanet info in\n",
    "tess_info_output_file = 'tess-info.pickle'"
   ]
  },
  {
   "cell_type": "code",
   "execution_count": null,
   "metadata": {},
   "outputs": [],
   "source": [
    "comp_viewer = ComparisonViewer(directory=\"..\",\n",
    "                           target_mag=Cmag,\n",
    "                           bright_mag_limit=bright_mag_limit,\n",
    "                           dim_mag_limit=dim_mag_limit,\n",
    "                           targets_from_file=None,\n",
    "                           aperture_output_file=aperture_output_file,\n",
    "                           overwrite_outputs=True\n",
    "                          )\n",
    "comp_viewer.box"
   ]
  },
  {
   "cell_type": "code",
   "execution_count": null,
   "metadata": {},
   "outputs": [],
   "source": [
    "import pickle\n",
    "\n",
    "with open(tess_info_output_file, 'wb') as f:\n",
    "    pickle.dump(comp_viewer.toi_info, f)\n",
    "    "
   ]
  },
  {
   "cell_type": "code",
   "execution_count": null,
   "metadata": {},
   "outputs": [],
   "source": [
    "##\n",
    "## Convert output aperture file to new SourceListData object format and resave\n",
    "##\n",
    "\n",
    "targets_table = comp_viewer.generate_table()\n",
    "# Assign units to columns\n",
    "targets_table['ra'] = targets_table['ra'] * u.deg\n",
    "targets_table['dec'] = targets_table['dec'] * u.deg\n",
    "targets_table['x'] = targets_table['x'] * u.pixel\n",
    "targets_table['y'] = targets_table['y'] * u.pixel\n",
    "# Drop redundant sky position column\n",
    "targets_table.remove_columns(['coord'])\n",
    "# Build sources list\n",
    "targets2sourcelist = {'x' : 'xcenter', 'y' : 'ycenter'}\n",
    "sources = SourceListData(input_data=targets_table, colname_map=targets2sourcelist)\n",
    "\n",
    "# Save to ECSV file\n",
    "sources.write(source_list_file, format='ascii.ecsv', overwrite=True)"
   ]
  },
  {
   "cell_type": "code",
   "execution_count": null,
   "metadata": {},
   "outputs": [],
   "source": []
  }
 ],
 "metadata": {
  "kernelspec": {
   "display_name": "Python 3 (ipykernel)",
   "language": "python",
   "name": "python3"
  },
  "language_info": {
   "codemirror_mode": {
    "name": "ipython",
    "version": 3
   },
   "file_extension": ".py",
   "mimetype": "text/x-python",
   "name": "python",
   "nbconvert_exporter": "python",
   "pygments_lexer": "ipython3",
   "version": "3.11.4"
  }
 },
 "nbformat": 4,
 "nbformat_minor": 4
}
