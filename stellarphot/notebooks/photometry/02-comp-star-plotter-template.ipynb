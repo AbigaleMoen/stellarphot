{
 "cells": [
  {
   "cell_type": "markdown",
   "metadata": {},
   "source": [
    "# Comparison star generator"
   ]
  },
  {
   "cell_type": "markdown",
   "metadata": {},
   "source": [
    "## For information about your TESS target\n",
    "\n",
    "1. Go to https://exofop.ipac.caltech.edu/tess/\n",
    "2. Enter the TIC number in the TIC search box\n",
    "2. Use the RA/Dec for the `ra` and `dec` variables in the cell below.\n",
    "3. Use the \"TESS mag\" for the variable `Cmag` in the cell below.\n",
    "4. Use the \"depth\" for the variable `depth` in the cell below."
   ]
  },
  {
   "cell_type": "code",
   "execution_count": 1,
   "metadata": {},
   "outputs": [],
   "source": [
    "import re\n",
    "\n",
    "import requests\n",
    "\n",
    "from astropy.coordinates import SkyCoord\n",
    "\n",
    "from stellarphot.visualization.comparison_functions import read_file, ComparisonViewer\n"
   ]
  },
  {
   "cell_type": "markdown",
   "metadata": {},
   "source": [
    "## Change the settings in this cell as needed"
   ]
  },
  {
   "cell_type": "code",
   "execution_count": 2,
   "metadata": {},
   "outputs": [],
   "source": [
    "directory_with_images = '..'\n",
    "\n",
    "# 👉 This could be any image from roughly the middle of the sequence.\n",
    "sample_image_for_finding_stars = 'TIC_237205154.01-S001-R013-C001-rp.fit'\n",
    "\n",
    "# 👉 You will be able to use this name later to pull out the data you want\n",
    "object_of_interest = 'TIC_237205154.01'\n",
    "\n",
    "# 👉 Get these variable from ExoFOP-TESS or Exoplanet ETD\n",
    " \n",
    "ra_object = '19:34:19.97'\n",
    "dec_object = '76:39:39.91'\n",
    "\n",
    "Cmag = 13.0024 # 👉 Use TESS magnitude from ExoFOP-TESSfor this\n",
    "depth = 16908.821 / 1000 # 👉 Depth should be in parts per thousand, ExoFOP gives it in ppm.\n",
    "\n",
    "bright_mag_limit = 9\n",
    "dim_mag_limit = 16\n",
    "\n",
    "# 👉 File to save apertures in\n",
    "aperture_output_file = 'aperture_locations.fits'\n",
    "\n",
    "TESS_target = True  # change to False (capitalized) if this is NOT a TESS object\n",
    "\n",
    "if TESS_target:\n",
    "    server = \"https://www.astro.louisville.edu\"\n",
    "    gaia_aperture_url = server + f\"/cgi-bin/gaia_to_aij/upload_request.cgi?ra={ra_object}&dec={dec_object}&mag={Cmag}&depth={depth}\"\n",
    "\n",
    "    result = requests.get(gaia_aperture_url)\n",
    "    links = re.search('href=\"(.+)\"', result.text.replace('\\n', ''), )\n",
    "\n",
    "    target_file_contents = requests.get(server + links[1])\n",
    "    with open('gaia_stars.radec', 'wt') as f:\n",
    "        f.write(target_file_contents.text)\n",
    "    targets_from_file = read_file('gaia_stars.radec')\n",
    "else:\n",
    "    targets_from_file = []"
   ]
  },
  {
   "cell_type": "code",
   "execution_count": 3,
   "metadata": {},
   "outputs": [],
   "source": [
    "coordinate = SkyCoord(ra=ra_object, dec=dec_object, unit=(\"hour\", \"degree\"))"
   ]
  },
  {
   "cell_type": "code",
   "execution_count": 4,
   "metadata": {},
   "outputs": [
    {
     "name": "stderr",
     "output_type": "stream",
     "text": [
      "WARNING: FITSFixedWarning: RADECSYS= 'FK5 ' / Equatorial coordinate system \n",
      "the RADECSYS keyword is deprecated, use RADESYSa. [astropy.wcs.wcs]\n",
      "WARNING: AstropyDeprecationWarning: The truth value of a Quantity is ambiguous. In the future this will raise a ValueError. [astropy.units.quantity]\n",
      "WARNING: Some non-standard WCS keywords were excluded: A_ORDER, A_0_2, A_1_1, A_2_0, B_ORDER, B_0_2, B_1_1, B_2_0, AP_ORDER, AP_0_0, AP_0_1, AP_0_2, AP_1_0, AP_1_1, AP_2_0, BP_ORDER, BP_0_0, BP_0_1, BP_0_2, BP_1_0, BP_1_1, BP_2_0 Use the ``relax`` kwarg to control this. [astropy.wcs.wcs]\n"
     ]
    },
    {
     "data": {
      "application/vnd.jupyter.widget-view+json": {
       "model_id": "9336c3e139814ce483c450c79b229b50",
       "version_major": 2,
       "version_minor": 0
      },
      "text/plain": [
       "VBox(children=(HTML(value='\\n        <h2>Click and drag or use arrow keys to pan, use +/- keys to zoom</h2>\\n …"
      ]
     },
     "metadata": {},
     "output_type": "display_data"
    }
   ],
   "source": [
    "comp_viewer = ComparisonViewer(sample_image_for_finding_stars,\n",
    "                           directory=directory_with_images,\n",
    "                           target_mag=Cmag,\n",
    "                           bright_mag_limit=bright_mag_limit,\n",
    "                           dim_mag_limit=dim_mag_limit,\n",
    "                           targets_from_file=targets_from_file,\n",
    "                           object_coordinate=coordinate\n",
    "                          )\n",
    "comp_viewer.box"
   ]
  },
  {
   "cell_type": "markdown",
   "metadata": {
    "tags": []
   },
   "source": [
    "### Get the table of marked stars."
   ]
  },
  {
   "cell_type": "code",
   "execution_count": 5,
   "metadata": {},
   "outputs": [],
   "source": [
    "comp_table = comp_viewer.generate_table()"
   ]
  },
  {
   "cell_type": "markdown",
   "metadata": {},
   "source": [
    "### Display information on variables"
   ]
  },
  {
   "cell_type": "code",
   "execution_count": 6,
   "metadata": {},
   "outputs": [
    {
     "data": {
      "text/html": [
       "<div><i>Table length=4</i>\n",
       "<table id=\"table6579626736\" class=\"table-striped table-bordered table-condensed\">\n",
       "<thead><tr><th>OID</th><th>n_OID</th><th>Name</th><th>V</th><th>Type</th><th>l_max</th><th>max</th><th>u_max</th><th>n_max</th><th>f_min</th><th>l_min</th><th>min</th><th>u_min</th><th>n_min</th><th>l_Period</th><th>Period</th><th>u_Period</th><th>RAJ2000</th><th>DEJ2000</th><th>coords</th><th>star_id</th></tr></thead>\n",
       "<thead><tr><th></th><th></th><th></th><th></th><th></th><th></th><th>mag</th><th></th><th></th><th></th><th></th><th>mag</th><th></th><th></th><th></th><th>d</th><th></th><th>deg</th><th>deg</th><th>deg,deg</th><th></th></tr></thead>\n",
       "<thead><tr><th>int32</th><th>str1</th><th>str30</th><th>uint8</th><th>str30</th><th>str1</th><th>float32</th><th>str1</th><th>str6</th><th>str1</th><th>str1</th><th>float32</th><th>str1</th><th>str6</th><th>str1</th><th>float64</th><th>str3</th><th>float64</th><th>float64</th><th>SkyCoord</th><th>int64</th></tr></thead>\n",
       "<tr><td>630107</td><td>B</td><td>WISE J193202.1+764453</td><td>0</td><td>EW</td><td></td><td>12.574</td><td></td><td>g</td><td>(</td><td></td><td>0.146</td><td></td><td>g</td><td></td><td>0.3390060000</td><td></td><td>293.00898</td><td>76.74839</td><td>293.00898,76.74839</td><td>23</td></tr>\n",
       "<tr><td>285280</td><td>B</td><td>GSC 04584-01483</td><td>0</td><td>EW</td><td></td><td>11.850</td><td></td><td>R1</td><td></td><td></td><td>12.170</td><td></td><td>R1</td><td></td><td>1.0296021000</td><td></td><td>294.20633</td><td>76.57018</td><td>294.20633000000004,76.57018</td><td>24</td></tr>\n",
       "<tr><td>1931956</td><td></td><td>ZTF J193754.71+765357.6</td><td>0</td><td>BY</td><td></td><td>16.794</td><td></td><td>r</td><td>(</td><td></td><td>0.079</td><td></td><td>r</td><td></td><td>0.7471696000</td><td></td><td>294.47798</td><td>76.89936</td><td>294.47798,76.89936</td><td>25</td></tr>\n",
       "<tr><td>1530182</td><td></td><td>ASASSN-V J193029.01+762453.3</td><td>0</td><td>EA</td><td></td><td>14.000</td><td></td><td>V</td><td></td><td></td><td>14.210</td><td></td><td>V</td><td></td><td>2.0027900000</td><td></td><td>292.62087</td><td>76.41480</td><td>292.62087,76.4148</td><td>26</td></tr>\n",
       "</table></div>"
      ],
      "text/plain": [
       "<Table length=4>\n",
       "  OID   n_OID ...            coords           star_id\n",
       "              ...           deg,deg                  \n",
       " int32   str1 ...           SkyCoord           int64 \n",
       "------- ----- ... --------------------------- -------\n",
       " 630107     B ...          293.00898,76.74839      23\n",
       " 285280     B ... 294.20633000000004,76.57018      24\n",
       "1931956       ...          294.47798,76.89936      25\n",
       "1530182       ...           292.62087,76.4148      26"
      ]
     },
     "execution_count": 6,
     "metadata": {},
     "output_type": "execute_result"
    }
   ],
   "source": [
    "comp_viewer.variables"
   ]
  },
  {
   "cell_type": "markdown",
   "metadata": {},
   "source": [
    "### Label the stars with numbers"
   ]
  },
  {
   "cell_type": "code",
   "execution_count": 19,
   "metadata": {},
   "outputs": [],
   "source": [
    "comp_viewer.show_circle()"
   ]
  },
  {
   "cell_type": "code",
   "execution_count": 15,
   "metadata": {},
   "outputs": [],
   "source": [
    "comp_viewer.remove_circle()"
   ]
  },
  {
   "cell_type": "code",
   "execution_count": 16,
   "metadata": {},
   "outputs": [],
   "source": [
    "comp_viewer.show_labels()"
   ]
  },
  {
   "cell_type": "code",
   "execution_count": 17,
   "metadata": {},
   "outputs": [],
   "source": [
    "comp_viewer.remove_labels()"
   ]
  },
  {
   "cell_type": "code",
   "execution_count": 18,
   "metadata": {},
   "outputs": [
    {
     "ename": "NameError",
     "evalue": "name 'plot_names' is not defined",
     "output_type": "error",
     "traceback": [
      "\u001b[0;31m---------------------------------------------------------------------------\u001b[0m",
      "\u001b[0;31mNameError\u001b[0m                                 Traceback (most recent call last)",
      "Input \u001b[0;32mIn [18]\u001b[0m, in \u001b[0;36m<cell line: 1>\u001b[0;34m()\u001b[0m\n\u001b[0;32m----> 1\u001b[0m comp_table[\u001b[38;5;124m'\u001b[39m\u001b[38;5;124mplot_label\u001b[39m\u001b[38;5;124m'\u001b[39m] \u001b[38;5;241m=\u001b[39m \u001b[43mplot_names\u001b[49m\n",
      "\u001b[0;31mNameError\u001b[0m: name 'plot_names' is not defined"
     ]
    }
   ],
   "source": [
    "comp_table['plot_label'] = plot_names"
   ]
  },
  {
   "cell_type": "code",
   "execution_count": null,
   "metadata": {},
   "outputs": [],
   "source": [
    "comp_table.write(aperture_output_file, overwrite=True)"
   ]
  },
  {
   "cell_type": "markdown",
   "metadata": {},
   "source": [
    "### Add 2.5 arcmin circle (do this after writing comparison table!)\n",
    "\n",
    "Otherwise the comparison table will contain an extra entry for this circle."
   ]
  },
  {
   "cell_type": "code",
   "execution_count": null,
   "metadata": {},
   "outputs": [],
   "source": []
  }
 ],
 "metadata": {
  "kernelspec": {
   "display_name": "Python 3 (ipykernel)",
   "language": "python",
   "name": "python3"
  },
  "language_info": {
   "codemirror_mode": {
    "name": "ipython",
    "version": 3
   },
   "file_extension": ".py",
   "mimetype": "text/x-python",
   "name": "python",
   "nbconvert_exporter": "python",
   "pygments_lexer": "ipython3",
   "version": "3.10.5"
  }
 },
 "nbformat": 4,
 "nbformat_minor": 4
}
