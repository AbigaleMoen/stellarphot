{
 "cells": [
  {
   "cell_type": "markdown",
   "metadata": {},
   "source": [
    "# Demo of overlay of comparison stars\n",
    "\n",
    "## Go to \"Cell → Run all\" then scroll to the bottom of the page\n",
    "\n",
    "### Be patient while the image is downloaded"
   ]
  },
  {
   "cell_type": "code",
   "execution_count": 2,
   "metadata": {},
   "outputs": [],
   "source": [
    "%load_ext autoreload\n",
    "\n",
    "%autoreload 2"
   ]
  },
  {
   "cell_type": "code",
   "execution_count": 3,
   "metadata": {},
   "outputs": [
    {
     "name": "stderr",
     "output_type": "stream",
     "text": [
      "/Users/mattcraig/miniconda3/envs/stellarphot/lib/python3.8/site-packages/ginga/cmap.py:13317: MatplotlibDeprecationWarning: The global colormaps dictionary is no longer considered public API.\n",
      "  for name in _cm.cmap_d:\n"
     ]
    }
   ],
   "source": [
    "from astrowidgets import ImageWidget, __version__\n",
    "from stellarphot.visualization.comparison_functions import *\n",
    "import ipywidgets as ipw\n",
    "import numpy as np\n",
    "from astropy.coordinates import SkyCoord\n",
    "import functools\n",
    "from astropy.table import Table"
   ]
  },
  {
   "cell_type": "code",
   "execution_count": 4,
   "metadata": {},
   "outputs": [
    {
     "name": "stdout",
     "output_type": "stream",
     "text": [
      "0.1.1\n"
     ]
    }
   ],
   "source": [
    "print(__version__)"
   ]
  },
  {
   "cell_type": "code",
   "execution_count": 5,
   "metadata": {},
   "outputs": [],
   "source": [
    "directory_with_images = '.'\n",
    "#This could be any image from roughly the middle of the sequence.\n",
    "sample_image_for_finding_stars = 'TIC_470127886.01-S001-R001-C001-rp.fit'\n",
    "object_of_interest = 'TYC 4612-401-1'"
   ]
  },
  {
   "cell_type": "code",
   "execution_count": 6,
   "metadata": {},
   "outputs": [],
   "source": [
    "df, RD, ra, dec, RD['coords'] = read_file('gaia_stars_1596472748.radec')"
   ]
  },
  {
   "cell_type": "code",
   "execution_count": 7,
   "metadata": {},
   "outputs": [
    {
     "name": "stdout",
     "output_type": "stream",
     "text": [
      "['_q', 'OID', 'n_OID', 'Name', 'V', 'Type', 'l_max', 'max', 'u_max', 'n_max', 'f_min', 'l_min', 'min', 'u_min', 'n_min', 'l_Period', 'Period', 'u_Period', 'RAJ2000', 'DEJ2000', 'coords']\n"
     ]
    },
    {
     "name": "stderr",
     "output_type": "stream",
     "text": [
      "WARNING: FITSFixedWarning: RADECSYS= 'FK5 ' / Equatorial coordinate system \n",
      "the RADECSYS keyword is deprecated, use RADESYSa. [astropy.wcs.wcs]\n"
     ]
    }
   ],
   "source": [
    "ccd, ccdx, ccdy, vsx, ra, dec, vsx['coords'], vsx_names = set_up(object_of_interest, directory_with_images, sample_image_for_finding_stars)"
   ]
  },
  {
   "cell_type": "code",
   "execution_count": 8,
   "metadata": {
    "scrolled": true
   },
   "outputs": [],
   "source": [
    "apass, v_angle, RD_angle = match(ccd, RD, vsx)"
   ]
  },
  {
   "cell_type": "code",
   "execution_count": 9,
   "metadata": {},
   "outputs": [],
   "source": [
    "Cmag = 11.3"
   ]
  },
  {
   "cell_type": "code",
   "execution_count": 10,
   "metadata": {},
   "outputs": [],
   "source": [
    "apass_good_coord, good_stars = mag_scale(Cmag, apass, v_angle, RD_angle, \n",
    "                                         brighter_dmag=3, \n",
    "                                         dimmer_dmag=5)"
   ]
  },
  {
   "cell_type": "code",
   "execution_count": 11,
   "metadata": {},
   "outputs": [],
   "source": [
    "ent = in_field(apass_good_coord, ccd, ccdx, ccdy, apass, good_stars)"
   ]
  },
  {
   "cell_type": "code",
   "execution_count": 12,
   "metadata": {},
   "outputs": [],
   "source": [
    "iw = ImageWidget()\n",
    "out = ipw.Output()\n",
    "bind_map = iw._viewer.get_bindmap()\n",
    "gvc = iw._viewer.get_canvas()\n",
    "bind_map.map_event(None, ('shift',), 'ms_left', 'cursor')\n",
    "gvc.add_callback('cursor-down', wrap(iw, out))"
   ]
  },
  {
   "cell_type": "code",
   "execution_count": 13,
   "metadata": {},
   "outputs": [],
   "source": [
    "header = ipw.HTML(value=\"\"\"\n",
    "<h2>Scroll to pan, use +/- keys to zoom</h2>\n",
    "<h3>Left click to exclude star as target or comp. Click again to include.</h3>\n",
    "\"\"\")\n",
    "\n",
    "legend = ipw.HTML(value=\"\"\"\n",
    "<h3>Green circles -- Gaia stars within 2.5 arcmin of target</h3>\n",
    "<h3>Blue circles -- APASS stars within 1 mag of target</h3>\n",
    "<h3>Red circles -- VSX variables</h3>\n",
    "<h3>Red × -- Exclude as target or comp</h3>\n",
    "\"\"\")"
   ]
  },
  {
   "cell_type": "code",
   "execution_count": 14,
   "metadata": {},
   "outputs": [
    {
     "name": "stderr",
     "output_type": "stream",
     "text": [
      "WARNING: FITSFixedWarning: RADECSYS= 'FK5 ' \n",
      "the RADECSYS keyword is deprecated, use RADESYSa. [astropy.wcs.wcs]\n"
     ]
    }
   ],
   "source": [
    "# make_markers needs a local file for now...\n",
    "ccd.write('image_file.fits', overwrite=True)\n",
    "make_markers(iw, directory_with_images, 'image_file.fits', RD, vsx, ent, object_of_interest)"
   ]
  },
  {
   "cell_type": "code",
   "execution_count": 15,
   "metadata": {},
   "outputs": [
    {
     "data": {
      "text/html": [
       "<i>Table length=10</i>\n",
       "<table id=\"table140617256963472\" class=\"table-striped table-bordered table-condensed\">\n",
       "<thead><tr><th>RA</th><th>Dec</th><th>a</th><th>b</th><th>Mag</th><th>coords</th></tr></thead>\n",
       "<thead><tr><th></th><th></th><th></th><th></th><th></th><th>deg,deg</th></tr></thead>\n",
       "<thead><tr><th>str12</th><th>str14</th><th>int64</th><th>int64</th><th>float64</th><th>object</th></tr></thead>\n",
       "<tr><td>22:04:28.286</td><td>81:33:57.442</td><td>0</td><td>1</td><td>10.707</td><td>331.1178583333333,81.5659561111111</td></tr>\n",
       "<tr><td>22:04:36.467</td><td>81:33:16.436</td><td>0</td><td>0</td><td>15.867</td><td>331.1519458333333,81.55456555555556</td></tr>\n",
       "<tr><td>22:04:39.668</td><td>81:34:56.136</td><td>0</td><td>0</td><td>13.502</td><td>331.16528333333326,81.58225999999999</td></tr>\n",
       "<tr><td>22:04:22.390</td><td>81:32:49.766</td><td>0</td><td>0</td><td>14.009</td><td>331.09329166666663,81.54715722222222</td></tr>\n",
       "<tr><td>22:04:54.968</td><td>81:33:15.172</td><td>0</td><td>0</td><td>15.85</td><td>331.2290333333333,81.55421444444444</td></tr>\n",
       "<tr><td>22:03:51.438</td><td>81:33:30.800</td><td>0</td><td>0</td><td>14.909</td><td>330.964325,81.55855555555556</td></tr>\n",
       "<tr><td>22:03:34.951</td><td>81:34:24.798</td><td>0</td><td>0</td><td>14.457</td><td>330.89562916666665,81.573555</td></tr>\n",
       "<tr><td>22:03:26.726</td><td>81:33:22.258</td><td>0</td><td>0</td><td>15.341</td><td>330.86135833333327,81.55618277777778</td></tr>\n",
       "<tr><td>22:04:50.977</td><td>81:31:41.212</td><td>0</td><td>0</td><td>14.432</td><td>331.2124041666666,81.52811444444444</td></tr>\n",
       "<tr><td>22:03:21.628</td><td>81:34:17.410</td><td>0</td><td>0</td><td>15.625</td><td>330.84011666666663,81.57150277777778</td></tr>\n",
       "</table>"
      ],
      "text/plain": [
       "<Table length=10>\n",
       "     RA           Dec       ...   Mag                  coords               \n",
       "                            ...                       deg,deg               \n",
       "   str12         str14      ... float64                object               \n",
       "------------ -------------- ... ------- ------------------------------------\n",
       "22:04:28.286   81:33:57.442 ...  10.707   331.1178583333333,81.5659561111111\n",
       "22:04:36.467   81:33:16.436 ...  15.867  331.1519458333333,81.55456555555556\n",
       "22:04:39.668   81:34:56.136 ...  13.502 331.16528333333326,81.58225999999999\n",
       "22:04:22.390   81:32:49.766 ...  14.009 331.09329166666663,81.54715722222222\n",
       "22:04:54.968   81:33:15.172 ...   15.85  331.2290333333333,81.55421444444444\n",
       "22:03:51.438   81:33:30.800 ...  14.909         330.964325,81.55855555555556\n",
       "22:03:34.951   81:34:24.798 ...  14.457         330.89562916666665,81.573555\n",
       "22:03:26.726   81:33:22.258 ...  15.341 330.86135833333327,81.55618277777778\n",
       "22:04:50.977   81:31:41.212 ...  14.432  331.2124041666666,81.52811444444444\n",
       "22:03:21.628   81:34:17.410 ...  15.625 330.84011666666663,81.57150277777778"
      ]
     },
     "execution_count": 15,
     "metadata": {},
     "output_type": "execute_result"
    }
   ],
   "source": [
    "RD"
   ]
  },
  {
   "cell_type": "code",
   "execution_count": 16,
   "metadata": {},
   "outputs": [
    {
     "data": {
      "application/vnd.jupyter.widget-view+json": {
       "model_id": "7518e50919d5443db7e815dac34272c4",
       "version_major": 2,
       "version_minor": 0
      },
      "text/plain": [
       "VBox(children=(HTML(value='\\n<h2>Scroll to pan, use +/- keys to zoom</h2>\\n<h3>Left click to exclude star as t…"
      ]
     },
     "metadata": {},
     "output_type": "display_data"
    }
   ],
   "source": [
    "box = ipw.VBox()\n",
    "inner_box = ipw.HBox()\n",
    "inner_box.children = [iw, legend]\n",
    "box.children = [header, inner_box]\n",
    "box"
   ]
  },
  {
   "cell_type": "code",
   "execution_count": 26,
   "metadata": {},
   "outputs": [
    {
     "data": {
      "text/html": [
       "&lt;MaskedColumn name=&apos;Name&apos; dtype=&apos;bytes30&apos; description=&apos;Variable star identifier&apos; length=3&gt;\n",
       "<table>\n",
       "<tr><td>PMAK V70</td></tr>\n",
       "<tr><td>MASTER OT J220220.89+814532.5</td></tr>\n",
       "<tr><td>WISE J221032.6+815314</td></tr>\n",
       "</table>"
      ],
      "text/plain": [
       "<MaskedColumn name='Name' dtype='bytes30' description='Variable star identifier' length=3>\n",
       "                     PMAK V70\n",
       "MASTER OT J220220.89+814532.5\n",
       "        WISE J221032.6+815314"
      ]
     },
     "execution_count": 26,
     "metadata": {},
     "output_type": "execute_result"
    }
   ],
   "source": [
    "vsx_names"
   ]
  },
  {
   "cell_type": "code",
   "execution_count": null,
   "metadata": {},
   "outputs": [],
   "source": [
    "all_table = iw.get_markers(marker_name = 'all')\n",
    "elims = np.array([name.startswith('elim') for name in all_table['marker name']])\n",
    "elim_table = all_table[elims]\n",
    "comp_table = all_table[~elims]"
   ]
  },
  {
   "cell_type": "code",
   "execution_count": null,
   "metadata": {},
   "outputs": [],
   "source": [
    "aperture_table = Table.read('comp_stars_with_good_id.fits')\n",
    "aperture_table"
   ]
  },
  {
   "cell_type": "code",
   "execution_count": null,
   "metadata": {},
   "outputs": [],
   "source": [
    "target = RD[0]\n",
    "iw.marker = {'color': 'yellow', 'radius': 268, 'type': 'circle'}\n",
    "iw.add_markers(target, skycoord_colname='coords',use_skycoord=True, marker_name='target')\n",
    "iw.stop_marking"
   ]
  },
  {
   "cell_type": "code",
   "execution_count": null,
   "metadata": {},
   "outputs": [],
   "source": [
    "comp_table[13]"
   ]
  },
  {
   "cell_type": "code",
   "execution_count": null,
   "metadata": {},
   "outputs": [],
   "source": [
    "index, d2d, d3d = elim_table['coord'].match_to_catalog_sky(comp_table['coord'])\n",
    "comp_table.remove_rows(index)"
   ]
  },
  {
   "cell_type": "code",
   "execution_count": null,
   "metadata": {},
   "outputs": [],
   "source": [
    "target_coord = RD['coords'][0]\n",
    "\n",
    "# Calculate how far each is from target\n",
    "comp_table['separation'] = target_coord.separation(comp_table['coord'])\n",
    "\n",
    "# Change that comparison that is actually a variable to a variable \n",
    "comp_table['marker name'][13] = 'VSX'\n",
    "\n",
    "# Add dummy column for sorting in the order we want\n",
    "comp_table['sort'] = np.zeros(len(comp_table))\n",
    "\n",
    "# Set sort order\n",
    "apass = comp_table['marker name'] == 'APASS comparison'\n",
    "vsx = comp_table['marker name'] == 'VSX'\n",
    "tess = comp_table['marker name'] == 'TESS Targets'\n",
    "\n",
    "comp_table['sort'][apass] = 2\n",
    "comp_table['sort'][vsx] = 1\n",
    "comp_table['sort'][tess] = 0\n",
    "\n",
    "# Sort the table\n",
    "comp_table.sort(['sort', 'separation'])\n",
    "\n",
    "# Assign the IDs\n",
    "comp_table['new_id'] = range(1, len(comp_table) + 1)\n",
    "\n",
    "# Delete the columns we don't need\n",
    "#del comp_table['separation'], comp_table['sort']"
   ]
  },
  {
   "cell_type": "code",
   "execution_count": null,
   "metadata": {},
   "outputs": [],
   "source": [
    "new_vsx = comp_table[10]\n",
    "iw.marker = {'color': 'blue', 'radius': 20, 'type': 'circle'}\n",
    "iw.add_markers(Table(data=[[new_vsx['x']], [new_vsx['y']]], names=['x', 'y']))\n",
    "iw.stop_marking"
   ]
  },
  {
   "cell_type": "code",
   "execution_count": null,
   "metadata": {},
   "outputs": [],
   "source": [
    "comp_table"
   ]
  },
  {
   "cell_type": "code",
   "execution_count": null,
   "metadata": {},
   "outputs": [],
   "source": [
    "for star in comp_table:\n",
    "    id = star['new_id']\n",
    "    if star['marker name'] == 'TESS Targets': \n",
    "        iw._marker = functools.partial(iw.dc.Text, text=f'T{id}', fontsize=20, fontscale=False, color='green')\n",
    "        iw.add_markers(Table(data=[[star['x']+20], [star['y']-20]], names=['x', 'y']))\n",
    "\n",
    "    elif star['marker name'] == 'APASS comparison':\n",
    "        iw._marker = functools.partial(iw.dc.Text, text=f'C{id}', fontsize=20, fontscale=False, color='red')\n",
    "        iw.add_markers(Table(data=[[star['x']+20], [star['y']-20]], names=['x', 'y']))\n",
    "\n",
    "    else:\n",
    "        iw._marker = functools.partial(iw.dc.Text, text=f'V{id}', fontsize=20, fontscale=False, color='blue')\n",
    "        iw.add_markers(Table(data=[[star['x']+20], [star['y']-20]], names=['x', 'y']))\n",
    "\n",
    "iw.stop_marking()"
   ]
  },
  {
   "cell_type": "code",
   "execution_count": null,
   "metadata": {},
   "outputs": [],
   "source": []
  },
  {
   "cell_type": "code",
   "execution_count": null,
   "metadata": {},
   "outputs": [],
   "source": [
    "comp_table.write('new_comp_locations.fits')"
   ]
  },
  {
   "cell_type": "code",
   "execution_count": null,
   "metadata": {},
   "outputs": [],
   "source": [
    "iw.stop_marking()"
   ]
  },
  {
   "cell_type": "code",
   "execution_count": null,
   "metadata": {},
   "outputs": [],
   "source": [
    "iw.save('TIC470127886-01_20200627_Paul-P-Feder-0.4m_rp_field-zoom.png')"
   ]
  },
  {
   "cell_type": "code",
   "execution_count": null,
   "metadata": {},
   "outputs": [],
   "source": []
  }
 ],
 "metadata": {
  "kernelspec": {
   "display_name": "Python 3",
   "language": "python",
   "name": "python3"
  },
  "language_info": {
   "codemirror_mode": {
    "name": "ipython",
    "version": 3
   },
   "file_extension": ".py",
   "mimetype": "text/x-python",
   "name": "python",
   "nbconvert_exporter": "python",
   "pygments_lexer": "ipython3",
   "version": "3.8.3"
  }
 },
 "nbformat": 4,
 "nbformat_minor": 4
}
